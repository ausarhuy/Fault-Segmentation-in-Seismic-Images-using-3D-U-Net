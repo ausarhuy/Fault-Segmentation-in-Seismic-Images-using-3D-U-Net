{
 "cells": [
  {
   "cell_type": "code",
   "execution_count": 1,
   "metadata": {
    "_cell_guid": "b1076dfc-b9ad-4769-8c92-a6c4dae69d19",
    "_uuid": "8f2839f25d086af736a60e9eeb907d3b93b6e0e5",
    "execution": {
     "iopub.execute_input": "2023-08-08T15:26:18.635986Z",
     "iopub.status.busy": "2023-08-08T15:26:18.635095Z",
     "iopub.status.idle": "2023-08-08T15:26:27.242365Z",
     "shell.execute_reply": "2023-08-08T15:26:27.241277Z",
     "shell.execute_reply.started": "2023-08-08T15:26:18.635954Z"
    },
    "trusted": true,
    "ExecuteTime": {
     "end_time": "2023-09-04T02:26:52.365854Z",
     "start_time": "2023-09-04T02:26:50.580676900Z"
    }
   },
   "outputs": [],
   "source": [
    "import numpy as np\n",
    "import tensorflow as tf\n",
    "from tensorflow.keras.optimizers import Adam\n",
    "from dataloader import DataGenerator\n",
    "from models import *\n",
    "from utils import show_history\n",
    "from callbacks import EarlyStoppingReduceLROnPlateau"
   ]
  },
  {
   "cell_type": "code",
   "execution_count": 2,
   "outputs": [],
   "source": [
    "seed = 2000"
   ],
   "metadata": {
    "collapsed": false,
    "ExecuteTime": {
     "end_time": "2023-09-04T02:26:52.380856200Z",
     "start_time": "2023-09-04T02:26:52.365854Z"
    }
   }
  },
  {
   "cell_type": "code",
   "execution_count": 3,
   "metadata": {
    "execution": {
     "iopub.execute_input": "2023-08-08T15:26:27.246264Z",
     "iopub.status.busy": "2023-08-08T15:26:27.245662Z",
     "iopub.status.idle": "2023-08-08T15:26:27.250696Z",
     "shell.execute_reply": "2023-08-08T15:26:27.249766Z",
     "shell.execute_reply.started": "2023-08-08T15:26:27.246237Z"
    },
    "trusted": true,
    "ExecuteTime": {
     "end_time": "2023-09-04T02:26:52.403889100Z",
     "start_time": "2023-09-04T02:26:52.381855900Z"
    }
   },
   "outputs": [],
   "source": [
    "tf.keras.utils.set_random_seed(\n",
    "    seed\n",
    ")\n",
    "np.random.default_rng(seed)\n",
    "tf.config.experimental.enable_op_determinism()"
   ]
  },
  {
   "cell_type": "code",
   "execution_count": 4,
   "metadata": {
    "execution": {
     "iopub.execute_input": "2023-08-08T15:26:27.461811Z",
     "iopub.status.busy": "2023-08-08T15:26:27.461251Z",
     "iopub.status.idle": "2023-08-08T15:26:27.470539Z",
     "shell.execute_reply": "2023-08-08T15:26:27.469610Z",
     "shell.execute_reply.started": "2023-08-08T15:26:27.461759Z"
    },
    "trusted": true,
    "ExecuteTime": {
     "end_time": "2023-09-04T02:26:52.411858200Z",
     "start_time": "2023-09-04T02:26:52.398890700Z"
    }
   },
   "outputs": [],
   "source": [
    "params = {\n",
    "    'batch_size': 1,\n",
    "    'shape': (128, 128, 128),\n",
    "    'n_channels': 1,\n",
    "    'shuffle': True\n",
    "}\n",
    "\n",
    "train_path = \"data/train/\"\n",
    "val_path = \"data/validation/\"\n",
    "save_path = 'models/'\n",
    "\n",
    "train_generator = DataGenerator(path=train_path, ids=range(200), **params)\n",
    "valid_generator = DataGenerator(path=val_path, ids=range(20), **params)"
   ]
  },
  {
   "cell_type": "code",
   "execution_count": 5,
   "metadata": {
    "execution": {
     "iopub.execute_input": "2023-08-08T15:26:27.502399Z",
     "iopub.status.busy": "2023-08-08T15:26:27.502046Z",
     "iopub.status.idle": "2023-08-08T15:26:27.517307Z",
     "shell.execute_reply": "2023-08-08T15:26:27.516224Z",
     "shell.execute_reply.started": "2023-08-08T15:26:27.502368Z"
    },
    "trusted": true,
    "ExecuteTime": {
     "end_time": "2023-09-04T02:26:52.429359900Z",
     "start_time": "2023-09-04T02:26:52.413858900Z"
    }
   },
   "outputs": [],
   "source": [
    "callbacks = EarlyStoppingReduceLROnPlateau(monitor='val_loss', factor=0.1, patience=5, min_lr=1e-6, min_delta=1e-4,\n",
    "                                           restore_best_weights=True, early_stopping=True, verbose=1)"
   ]
  },
  {
   "cell_type": "code",
   "execution_count": null,
   "outputs": [],
   "source": [
    "model = inception_unet(seed=seed)\n",
    "model.summary()\n",
    "print(f'=============Training {model.name} model===============')\n",
    "model.compile(optimizer=Adam(learning_rate=1e-3),\n",
    "              loss='bce',\n",
    "              metrics=['binary_accuracy'])\n",
    "\n",
    "# Fit the model\n",
    "history = model.fit(train_generator, validation_data=valid_generator,\n",
    "                    epochs=100,\n",
    "                    callbacks=[callbacks])\n",
    "\n",
    "model.save_weights(save_path + model.name + '.h5')\n",
    "print(f'Saved {model.name} model weights')"
   ],
   "metadata": {
    "collapsed": false
   }
  },
  {
   "cell_type": "code",
   "execution_count": null,
   "outputs": [],
   "source": [
    "show_history(history)"
   ],
   "metadata": {
    "collapsed": false,
    "ExecuteTime": {
     "start_time": "2023-09-04T02:31:53.795230800Z"
    }
   }
  }
 ],
 "metadata": {
  "kernelspec": {
   "display_name": "Python 3",
   "language": "python",
   "name": "python3"
  },
  "language_info": {
   "codemirror_mode": {
    "name": "ipython",
    "version": 3
   },
   "file_extension": ".py",
   "mimetype": "text/x-python",
   "name": "python",
   "nbconvert_exporter": "python",
   "pygments_lexer": "ipython3",
   "version": "3.9.17"
  }
 },
 "nbformat": 4,
 "nbformat_minor": 4
}
